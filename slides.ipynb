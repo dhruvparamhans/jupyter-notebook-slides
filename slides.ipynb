{
 "cells": [
  {
<<<<<<< HEAD
   "cell_type": "raw",
   "metadata": {
    "collapsed": true,
    "slideshow": {
     "slide_type": "skip"
    }
   },
   "source": [
    "<style type=\"text/css\">\n",
    ".reveal h1, .reveal h2 {\n",
    "    font-family:\"League Gothic\"\n",
    "}\n",
    "</style>"
   ]
  },
  {
=======
>>>>>>> ceb6c12c562497516470f36940047857858c7ecc
   "cell_type": "markdown",
   "metadata": {
    "slideshow": {
     "slide_type": "slide"
    }
   },
   "source": [
<<<<<<< HEAD
    "# Multiple Equilibria: From the Perceptron to the Macroeconomy"
   ]
  },
  {
   "cell_type": "raw",
   "metadata": {},
   "source": []
=======
    "# This is the first slide "
   ]
>>>>>>> ceb6c12c562497516470f36940047857858c7ecc
  }
 ],
 "metadata": {
  "celltoolbar": "Slideshow",
  "kernelspec": {
   "display_name": "Python 2",
   "language": "python",
   "name": "python2"
  },
  "language_info": {
   "codemirror_mode": {
    "name": "ipython",
    "version": 2
   },
   "file_extension": ".py",
   "mimetype": "text/x-python",
   "name": "python",
   "nbconvert_exporter": "python",
   "pygments_lexer": "ipython2",
   "version": "2.7.13"
  }
 },
 "nbformat": 4,
 "nbformat_minor": 2
}
