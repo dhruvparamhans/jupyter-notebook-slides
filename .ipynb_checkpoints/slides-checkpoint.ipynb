{
 "cells": [
  {
   "cell_type": "raw",
   "metadata": {
    "slideshow": {
     "slide_type": "skip"
    }
   },
   "source": [
    "<style type=\"text/css\">\n",
    ".reveal h1, .reveal h2 {\n",
    "    font-family:\"League Gothic\"\n",
    "}\n",
    "</style>"
   ]
  },
  {
   "cell_type": "markdown",
   "metadata": {
    "slideshow": {
     "slide_type": "notes"
    }
   },
   "source": [
    "Hello everyone, I am Dhruv Sharma and I am a first year graduate student here at the Ecole Normale working with Dr. Zamponi. What I am going to present today will be slightly different from the talks that we have heard over the course of the year. The subject of my talk concerns an application of tools from statistical physics to economics. \n",
    "\n",
    "Before I begin, I would just like to say that it is intimidating to give a talk to someone who is an expert of the field. To have so many of experts is nerve-wracking to say the least. \n",
    "\n",
    "For all those who havent met me yet, I am in room GH303 **add to the end** \n",
    "\n",
    "Let me begin by giving some rules for the talk. "
   ]
  },
  {
   "cell_type": "markdown",
   "metadata": {
    "slideshow": {
     "slide_type": "slide"
    }
   },
   "source": [
    "# Multiple Equilibria \n",
    "## From the Perceptron to the Macroeconomy "
   ]
  },
  {
   "cell_type": "markdown",
   "metadata": {
    "slideshow": {
     "slide_type": "subslide"
    }
   },
   "source": [
    "# Some basic rules \n",
    "\n",
    "- Ask simple questions "
   ]
  },
  {
   "cell_type": "markdown",
   "metadata": {
    "collapsed": true,
    "slideshow": {
     "slide_type": "fragment"
    }
   },
   "source": [
    "- In case of doubt, refer to \n",
    "\n",
    "<img align=\"center\" src=\"https://images-na.ssl-images-amazon.com/images/I/41ZUT4Dgq-L._SX306_BO1,204,203,200_.jpg\"></img>"
   ]
  },
  {
   "cell_type": "markdown",
   "metadata": {
    "collapsed": true,
    "slideshow": {
     "slide_type": "slide"
    }
   },
   "source": [
    "# Whats wrong with Macro-economics\n",
    "\n",
    "\n",
    "### Turns out a lot... "
   ]
  },
  {
   "cell_type": "code",
   "execution_count": null,
   "metadata": {
    "collapsed": true
   },
   "outputs": [],
   "source": []
  }
 ],
 "metadata": {
  "celltoolbar": "Slideshow",
  "kernelspec": {
   "display_name": "Python 2",
   "language": "python",
   "name": "python2"
  },
  "language_info": {
   "codemirror_mode": {
    "name": "ipython",
    "version": 2
   },
   "file_extension": ".py",
   "mimetype": "text/x-python",
   "name": "python",
   "nbconvert_exporter": "python",
   "pygments_lexer": "ipython2",
   "version": "2.7.13"
  }
 },
 "nbformat": 4,
 "nbformat_minor": 2
}
